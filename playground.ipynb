{
 "cells": [
  {
   "cell_type": "markdown",
   "metadata": {},
   "source": [
    "# Apollo Workspace Setup\n",
    "\n",
    "This notebook assumes you're working in a environment where `/workspace` is your root directory. Before proceeding:\n",
    "\n",
    "1. Ensure your Apollo workspace is properly mounted\n",
    "2. All paths in this notebook are relative to `/workspace`\n",
    "3. Required files:\n",
    "   - `model_config.json`\n",
    "   - `model.ckpt` (vanilla model)\n",
    "   - `training-dataset.json`\n",
    "   - Dataset directory with audio files\n",
    "   - Training metadata CSV\n",
    "\n",
    "> 💡 **Note**: All commands assume `/workspace` as the current working directory"
   ]
  },
  {
   "cell_type": "markdown",
   "metadata": {},
   "source": [
    "# Install stable-audio-tools"
   ]
  },
  {
   "cell_type": "code",
   "execution_count": null,
   "metadata": {},
   "outputs": [],
   "source": [
    "%cd /workspace/stable-audio-tools\n",
    "!pip install ."
   ]
  },
  {
   "cell_type": "markdown",
   "metadata": {},
   "source": [
    "# Run Inference (Vanilla Model)\n",
    "\n",
    "This step runs inference using the base model configuration. It will:\n",
    "1. Load the vanilla model with basic configuration\n",
    "2. Start a Gradio interface\n",
    "3. Create a shareable link for testing\n",
    "\n",
    "> 💡 **Note**: This is useful for testing the base model before training"
   ]
  },
  {
   "cell_type": "code",
   "execution_count": null,
   "metadata": {},
   "outputs": [],
   "source": [
    "%cd /workspace/stable-audio-tools\n",
    "\n",
    "command = (\n",
    "    \"python run_gradio.py\"\n",
    "    \" --model-config ./model_config.json\"\n",
    "    \" --ckpt-path ./checkpoints/model-001.ckpt\"\n",
    "    \" --share\"\n",
    ")\n",
    "!{command}"
   ]
  },
  {
   "cell_type": "markdown",
   "metadata": {},
   "source": [
    "# Training Setup and Configuration\n",
    "\n",
    "This section covers model training configuration and execution. Key components:\n",
    "\n",
    "### Weights & Biases Integration (Optional)\n",
    "- Install and configure W&B for experiment tracking\n",
    "- Use `wandb login` with your API key\n",
    "\n",
    "### Training Configuration\n",
    "- **Dataset**: Defined in `training-dataset.json`\n",
    "- **Model**: Base configuration in `model_config.json`\n",
    "- **GPU Usage**: \n",
    "  - Default: Single GPU (A100)\n",
    "  - Multi-GPU scaling available for large datasets (100GB+)\n",
    "  \n",
    "### Important Parameters\n",
    "- **Checkpoints**: \n",
    "  - Each checkpoint ≈ 16GB\n",
    "  - Saved every N steps\n",
    "  - Storage strategy needed for long runs\n",
    "- **Batch Size**: Configurable based on GPU memory\n",
    "- **Training Duration**: \n",
    "  - Currently runs indefinitely\n",
    "  - Manual stopping required\n",
    "  - Future: Epoch-based training planned\n",
    "\n",
    "> ⚠️ **Note**: Monitor disk space as checkpoints accumulate"
   ]
  },
  {
   "cell_type": "code",
   "execution_count": null,
   "metadata": {},
   "outputs": [],
   "source": [
    "%cd /workspace/stable-audio-tools\n",
    "\n",
    "command = (\n",
    "    \"python3 train.py\"\n",
    "    \" --dataset-config ./training-dataset.json\"\n",
    "    \" --model-config ./model_config.json\"\n",
    "    \" --name my_model_name\"\n",
    "    \" --save-dir ./checkpoints/\"\n",
    "    \" --checkpoint-every 100\"\n",
    "    \" --batch-size 32\"\n",
    "    \" --num-gpus 1\"\n",
    "    \" --precision 16-mixed\"\n",
    "    \" --seed 42\"\n",
    "    \" --pretrained-ckpt-path ./checkpoints/model-001.ckpt\"\n",
    ")\n",
    "\n",
    "!{command}"
   ]
  },
  {
   "cell_type": "markdown",
   "metadata": {},
   "source": [
    "# Unwrap the Model\n",
    "\n",
    "After training, the model needs to be unwrapped for inference. Important considerations:\n",
    "\n",
    "### Process Requirements\n",
    "- Heavy memory usage (≈50GB tested on A6000)\n",
    "- GPU memory management challenges:\n",
    "  - PyTorch Lightning memory retention issues\n",
    "  - May need manual cache clearing/GC if executed directly after training\n",
    "  \n",
    "> ⚠️ **Resource Note**: Consider dedicated workers for unwrapping in grid search scenarios"
   ]
  },
  {
   "cell_type": "code",
   "execution_count": null,
   "metadata": {},
   "outputs": [],
   "source": [
    "%cd /workspace/stable-audio-tools\n",
    "\n",
    "command = (\n",
    "    \"python unwrap_model.py\"\n",
    "    \" --model-config ./model_config.json\"\n",
    "    \" --ckpt-path ./checkpoints/<my_model_name>/<run_id>/checkpoints/<epoch>.ckpt\"\n",
    "    \" --name <my_model_checkpoint_name>\"\n",
    ")\n",
    "!{command}"
   ]
  },
  {
   "cell_type": "markdown",
   "metadata": {},
   "source": [
    "# Run Inference (Trained Model)\n",
    "\n",
    "Final step to test your trained model:\n",
    "\n",
    "1. Use the same `model_config.json`\n",
    "2. Specify the unwrapped model checkpoint\n",
    "3. Important: Use the unwrapped model name (`.ckpt`)\n",
    "\n",
    "### Dataset Structure\n",
    "- Dataset directory (recursively searched)\n",
    "- `training_metadata.csv` containing:\n",
    "  - Filename\n",
    "  - Filepath\n",
    "  - Additional training columns (customizable)\n",
    "  \n",
    "> 💡 **Note**: The custom dataset function can be modified to utilize different aspects of the training metadata"
   ]
  },
  {
   "cell_type": "code",
   "execution_count": null,
   "metadata": {},
   "outputs": [],
   "source": [
    "%cd /workspace/stable-audio-tools\n",
    "\n",
    "command = (\n",
    "    \"python run_gradio.py\"\n",
    "    \" --model-config /workspace/model_config.json\"\n",
    "    \" --ckpt-path <my_unwrapped_model_name>.ckpt\"\n",
    "    \" --share\"\n",
    ")\n",
    "!{command}"
   ]
  }
 ],
 "metadata": {
  "kernelspec": {
   "display_name": "venv",
   "language": "python",
   "name": "python3"
  },
  "language_info": {
   "codemirror_mode": {
    "name": "ipython",
    "version": 3
   },
   "file_extension": ".py",
   "mimetype": "text/x-python",
   "name": "python",
   "nbconvert_exporter": "python",
   "pygments_lexer": "ipython3",
   "version": "3.10.11"
  }
 },
 "nbformat": 4,
 "nbformat_minor": 2
}
